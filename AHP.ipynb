{
 "cells": [
  {
   "cell_type": "code",
   "execution_count": 28,
   "metadata": {
    "scrolled": true
   },
   "outputs": [
    {
     "name": "stdout",
     "output_type": "stream",
     "text": [
      "0.085993074270101\n"
     ]
    }
   ],
   "source": [
    "import pandas as pd\n",
    "import numpy as np\n",
    "\n",
    "valid_weights = {}  #Defining data container used to store valid weight\n",
    "number_of_data_set = 1\n",
    "number_of_valid_data = 0\n",
    "final_score = 0 # If positive--> benefits outweighs costs. If negative--> costs outweighs benefits.\n",
    "\n",
    "for data in range(1,number_of_data_set+1): \n",
    "    file = \"data {}.xlsx\".format(data)  #Excel file name format: data 1.xlsx, data 2.xlsx etc\n",
    "    df = pd.read_excel(file)   #Extracting data from excel\n",
    "\n",
    "    #Defining variable and data containers\n",
    "    Number_of_factors = len(df.columns)-1\n",
    "    matrix=np.zeros((Number_of_factors,Number_of_factors))\n",
    "    sum_for_each_column = []\n",
    "    total = 0\n",
    "    \n",
    "    #Making a matrix base on data from excel \n",
    "    for row in range(Number_of_factors):\n",
    "        for col in range(Number_of_factors):\n",
    "            matrix[row][col] = df.iloc[row,col+1]\n",
    "    \n",
    "    original_matrix = matrix.copy()\n",
    "\n",
    "    #Finding sum of each column\n",
    "    for col in range(Number_of_factors):\n",
    "        for row in range(Number_of_factors):\n",
    "            total += matrix[row][col]\n",
    "        sum_for_each_column.append(total)\n",
    "        total = 0\n",
    "\n",
    "    #Dividing each data by its corresponding sum value of its column\n",
    "    for col in range(Number_of_factors):\n",
    "        for row in range(Number_of_factors):\n",
    "            matrix[row][col] /= sum_for_each_column[col]\n",
    "\n",
    "\n",
    "    #Creating a new list to store the weight of each factor by finding mean of each row\n",
    "    weight_of_factors=[i for i in np.mean(matrix,axis=1)]\n",
    "\n",
    "    #Multiplying each data by its corresponding weight\n",
    "    for col in range(Number_of_factors):\n",
    "        for row in range(Number_of_factors):\n",
    "            original_matrix[row][col] *= weight_of_factors[col]\n",
    "    \n",
    "    weighted_row_sum = [i for i in np.sum(original_matrix,axis=1)]\n",
    "    \n",
    "    #Consistency check\n",
    "    principal_eigenvalue=0\n",
    "    for i in range(Number_of_factors):\n",
    "        principal_eigenvalue += weighted_row_sum[i] / weight_of_factors[i]\n",
    "    principal_eigenvalue /= Number_of_factors\n",
    "    \n",
    "\n",
    "    consistency_index = (principal_eigenvalue-Number_of_factors)/(Number_of_factors-1)\n",
    "    random_consistency_index = [0,0,0.58,0.90,1.12,1.24,1.32,1.41,1.45,1.49] \n",
    "    consistency_ratio = consistency_index/random_consistency_index[Number_of_factors-1]\n",
    "\n",
    "    #If the ratio is acceptable, it will be added into our valid weight\n",
    "    if consistency_ratio < 0.1:\n",
    "               \n",
    "        number_of_valid_data += 1\n",
    "        num = 1\n",
    "        for i in weight_of_factors:\n",
    "            if \"Factor \"+ str(num) not in valid_weights:   \n",
    "                valid_weights[\"Factor \"+ str(num)] = i\n",
    "            else: \n",
    "                valid_weights[\"Factor \"+ str(num)] += i\n",
    "            num += 1\n",
    "        #print(data) to check which data is consistent\n",
    "   \n",
    "    \n",
    "#Calculating final score\n",
    "#Assuming that we list all postive impacts then negative ones\n",
    "\n",
    "mid = Number_of_factors // 2\n",
    "for i in range(mid):\n",
    "    final_score += valid_weights[\"Factor \" + str(i+1)] - valid_weights[\"Factor \" + str(Number_of_factors - i)]\n",
    "print(final_score)\n",
    "\n",
    "\n",
    "\n",
    "\n",
    "\n",
    "\n"
   ]
  },
  {
   "cell_type": "code",
   "execution_count": null,
   "metadata": {},
   "outputs": [],
   "source": []
  },
  {
   "cell_type": "code",
   "execution_count": null,
   "metadata": {},
   "outputs": [],
   "source": []
  },
  {
   "cell_type": "code",
   "execution_count": null,
   "metadata": {},
   "outputs": [],
   "source": []
  },
  {
   "cell_type": "code",
   "execution_count": null,
   "metadata": {},
   "outputs": [],
   "source": []
  },
  {
   "cell_type": "code",
   "execution_count": null,
   "metadata": {},
   "outputs": [],
   "source": []
  },
  {
   "cell_type": "code",
   "execution_count": null,
   "metadata": {},
   "outputs": [],
   "source": []
  },
  {
   "cell_type": "code",
   "execution_count": null,
   "metadata": {},
   "outputs": [],
   "source": []
  }
 ],
 "metadata": {
  "kernelspec": {
   "display_name": "Python 3 (ipykernel)",
   "language": "python",
   "name": "python3"
  },
  "language_info": {
   "codemirror_mode": {
    "name": "ipython",
    "version": 3
   },
   "file_extension": ".py",
   "mimetype": "text/x-python",
   "name": "python",
   "nbconvert_exporter": "python",
   "pygments_lexer": "ipython3",
   "version": "3.9.13"
  }
 },
 "nbformat": 4,
 "nbformat_minor": 2
}
