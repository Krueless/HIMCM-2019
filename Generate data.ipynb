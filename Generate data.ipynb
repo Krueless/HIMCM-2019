{
 "cells": [
  {
   "cell_type": "code",
   "execution_count": 9,
   "metadata": {
    "scrolled": false
   },
   "outputs": [],
   "source": [
    "from openpyxl import Workbook\n",
    "from random import randint\n",
    "\n",
    "Number_of_factors = 6\n",
    "Factors = [\"A\",\"B\",\"C\",\"D\",\"E\",\"F\"]\n",
    "No_of_data = 1\n",
    "\n",
    "for a in range(1, No_of_data+1):\n",
    "    Wb = Workbook()\n",
    "    Ws = Wb.active\n",
    "    Ws[\"A1\"] = \"Factor\"\n",
    "    Importance_values = []\n",
    "    \n",
    "    #Naming the factors for each row\n",
    "    for i in range(2,Number_of_factors+2):\n",
    "        Ws[\"A{}\".format(i)] = Factors[i-2]\n",
    "\n",
    "    #Naming the factors for each column\n",
    "    for i in range(Number_of_factors):\n",
    "        Ws[\"{}1\".format(chr(66+i))] =  Factors[i]\n",
    "\n",
    "    #Initialising the \"Ones\" in the excel\n",
    "    for i in range(Number_of_factors):\n",
    "        Ws[\"{}{}\".format(chr(66+i),i+2)] = 1\n",
    "\n",
    "    #Generating random data\n",
    "    for i in range(15):\n",
    "        if randint(0,1)==0:\n",
    "            Importance_values.append(randint(1,5))\n",
    "        else:\n",
    "            Importance_values.append(1/randint(1,5))\n",
    "\n",
    "    Index = 0\n",
    "    \n",
    "    for i in range(Number_of_factors-1):\n",
    "        for j in range(Number_of_factors-1):\n",
    "            if i+j < 5:\n",
    "                Ws[\"{}{}\".format(chr(67+i+j),2+i)] = Importance_values[Index]\n",
    "                Index+=1\n",
    "            else: \n",
    "                break\n",
    "   \n",
    "\n",
    "    #Inserting the reciprocal values\n",
    "    Index = 0\n",
    "    for i in range(Number_of_factors-1):\n",
    "        for j in range(Number_of_factors-1):\n",
    "            if i+j < 5:\n",
    "                Ws[\"{}{}\".format(chr(66+i),3+j+i)] = 1/Importance_values[Index]\n",
    "                Index+=1\n",
    "            else: \n",
    "                break\n",
    "    Wb.save(filename=\"data {}.xlsx\".format(a))"
   ]
  },
  {
   "cell_type": "code",
   "execution_count": null,
   "metadata": {},
   "outputs": [],
   "source": []
  },
  {
   "cell_type": "code",
   "execution_count": null,
   "metadata": {},
   "outputs": [],
   "source": []
  }
 ],
 "metadata": {
  "kernelspec": {
   "display_name": "Python 3 (ipykernel)",
   "language": "python",
   "name": "python3"
  },
  "language_info": {
   "codemirror_mode": {
    "name": "ipython",
    "version": 3
   },
   "file_extension": ".py",
   "mimetype": "text/x-python",
   "name": "python",
   "nbconvert_exporter": "python",
   "pygments_lexer": "ipython3",
   "version": "3.9.13"
  }
 },
 "nbformat": 4,
 "nbformat_minor": 2
}
